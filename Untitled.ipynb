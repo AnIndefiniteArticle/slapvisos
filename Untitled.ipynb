{
 "cells": [
  {
   "cell_type": "markdown",
   "id": "5c01a213-d0e8-46fd-8be4-c9fdaa9b7081",
   "metadata": {},
   "source": [
    "# Read everything in"
   ]
  },
  {
   "cell_type": "code",
   "execution_count": 1,
   "id": "68f1d071-7cb5-49ee-a12f-9ba9a0e3b83f",
   "metadata": {},
   "outputs": [
    {
     "name": "stderr",
     "output_type": "stream",
     "text": [
      "/data/vimsSaturnOccs/slapvisos/venv/lib/python3.11/site-packages/pysis/env.py:33: RuntimeWarning: Could not find isis. Is `ISISROOT` set?\n",
      "  warnings.warn('Could not find isis. Is `ISISROOT` set?', RuntimeWarning)\n"
     ]
    },
    {
     "name": "stdout",
     "output_type": "stream",
     "text": [
      "\n",
      "Beginning analysis of AlpOri271S99\n",
      "\n",
      "IR cubes\n",
      "loaded previous save file\n",
      "High-Resolution Frames\n"
     ]
    }
   ],
   "source": [
    "import pysis as ps\n",
    "import numpy as np\n",
    "import matplotlib as mpl\n",
    "import matplotlib.pyplot as plt\n",
    "import occultationFuncs as oF\n",
    "from config import *\n",
    "import sys\n",
    "\n",
    "# hard coding outdir for this notebook\n",
    "outdir = \"outputs/testing/\"\n",
    "\n",
    "# Welcome Message\n",
    "print(\"\\nBeginning analysis of \"+occname+\"\\n\")\n",
    "\n",
    "  #####################\n",
    "  #     READ IN DATA  #\n",
    "  #####################\n",
    "\n",
    "# Get cube-size and allocate space\n",
    "shape    = ps.CubeFile(cubdir+cubfiles[0]).shape\n",
    "if visible:\n",
    "  print(\"Visible and IR cubes\")\n",
    "  ncubs    = np.int64(len(cubfiles)/2)\n",
    "  nspec    = shape[0] + ps.CubeFile(cubdir+cubfiles[1]).shape[0]\n",
    "else:\n",
    "  print(\"IR cubes\")\n",
    "  ncubs    = len(cubfiles)\n",
    "  nspec    = shape[0]\n",
    "height   = shape[1]\n",
    "width    = shape[2]\n",
    "maxpix   = np.max((height,width))\n",
    "# Read in data, or load from save file\n",
    "try:\n",
    "  cubdata = np.load(outdir+\"/\"+occname+\"data.npy\")\n",
    "  print(\"loaded previous save file\")\n",
    "except:\n",
    "  cubdata = oF.readVIMSimaging(cubdir, cubfiles, ncubs, nspec, height, width, visible)\n",
    "  np.save(outdir+\"/\"+occname+\"data.npy\", cubdata)\n",
    "\n",
    "# Get pixel dimensions\n",
    "if ps.CubeFile(cubdir+cubfiles[0]).label['IsisCube']['Instrument']['SamplingMode'] == 'HI-RES':\n",
    "  Xpixelwidth = 0.25 # mr\n",
    "  Zpixelwidth = 0.5  # mr\n",
    "  flatfield   = ps.CubeFile(flatdir+\"ir_hires_flatfield_v0002.cub\").data\n",
    "  mode        = \"HiRes\"\n",
    "  print(\"High-Resolution Frames\")\n",
    "else:\n",
    "  Xpixelwidth = Zpixelwidth = 0.5 # mr\n",
    "  flatfield   = ps.CubeFile(flatdir+\"ir_flatfield_v0002.cub\").data\n",
    "  mode        = \"LoRes\"\n",
    "  print(\"Low-Resolution Frames\")\n",
    "\n",
    "# read in prf scans and compute metric\n",
    "Xmetrics,Zmetrics = oF.prfmetric('../data/PRFscans/makePRF270.sav', pixelSize=(Xpixelwidth,Zpixelwidth), Plots=prfplots, outdir='outputs/PRFscanplots/')"
   ]
  },
  {
   "cell_type": "code",
   "execution_count": 2,
   "id": "eaaa50f3-7ffd-499d-be8d-7b3c25102bdd",
   "metadata": {},
   "outputs": [
    {
     "name": "stdout",
     "output_type": "stream",
     "text": [
      "smoothing input data over spectral window\n",
      "subtracting minimum to make everything positive\n",
      "taking the rolling average\n",
      "finding the brightest pixels in each frame\n",
      "finding the transition frames in X\n"
     ]
    }
   ],
   "source": [
    "smoothmono, maxcoords, Xtransitions, Zscan = oF.findthestar(cubdata, (100,120), 20, 20)"
   ]
  },
  {
   "cell_type": "code",
   "execution_count": 4,
   "id": "af9e5e38-2bc2-4133-94fe-251dde2f2651",
   "metadata": {},
   "outputs": [],
   "source": [
    "transitions = Xtransitions"
   ]
  },
  {
   "cell_type": "code",
   "execution_count": 5,
   "id": "5aefdadc-aef1-4390-a56c-18676fb9e60f",
   "metadata": {},
   "outputs": [
    {
     "data": {
      "text/plain": [
       "array([[   0,    2,   20],\n",
       "       [ 979,    3,   21],\n",
       "       [1028,    4,   21],\n",
       "       [1074,    5,   21],\n",
       "       [1117,    6,   21],\n",
       "       [1164,    7,   21],\n",
       "       [1205,    8,   21],\n",
       "       [1253,    9,   21],\n",
       "       [1296,   10,   21],\n",
       "       [1341,   11,   21],\n",
       "       [1381,   12,   21],\n",
       "       [1426,   13,   21]])"
      ]
     },
     "execution_count": 5,
     "metadata": {},
     "output_type": "execute_result"
    }
   ],
   "source": [
    "transitions"
   ]
  },
  {
   "cell_type": "code",
   "execution_count": 10,
   "id": "9b1ae6e4-075c-4eae-ac2d-2b3d6ca36b42",
   "metadata": {},
   "outputs": [],
   "source": [
    "frames = smoothmono / smoothmono.max()\n",
    "centers = np.zeros((len(frames),2))\n",
    "\n",
    "step = 0\n",
    "for i in range(len(frames)):\n",
    "  # increment step with transitions\n",
    "  if step < len(transitions)-1 and transitions[step+1][0] == i:\n",
    "    step += 1\n",
    "\n",
    "  # set current pixel\n",
    "  pixel = transitions[step][1]\n",
    "\n",
    "  # select comparison pixel\n",
    "  if step != 0 and (step == len(transitions)-1 or abs(transitions[step+1][0] - i) > abs(transitions[step][0]):\n",
    "    compare = transitions[step-1][1]\n",
    "  else:\n",
    "    compare = transitions[step+1][1]\n",
    "\n",
    "  # set whether comparison pixel is on the left\n",
    "  if compare > pixel:\n",
    "    Left = False\n",
    "  else:\n",
    "    Left = True\n",
    "\n",
    "  imagemetric = frames[i][maxcoords[1][i],maxcoords["
   ]
  },
  {
   "cell_type": "code",
   "execution_count": 11,
   "id": "45357be0-2726-442e-abb5-cd18f8dd4521",
   "metadata": {},
   "outputs": [
    {
     "data": {
      "text/plain": [
       "array([5., 5., 5., ..., 4., 4., 4.])"
      ]
     },
     "execution_count": 11,
     "metadata": {},
     "output_type": "execute_result"
    }
   ],
   "source": []
  },
  {
   "cell_type": "code",
   "execution_count": 12,
   "id": "bbc436ce-bbaf-4059-bf45-299456d6365a",
   "metadata": {},
   "outputs": [
    {
     "data": {
      "text/plain": [
       "[<matplotlib.lines.Line2D at 0x7f04ca065150>]"
      ]
     },
     "execution_count": 12,
     "metadata": {},
     "output_type": "execute_result"
    },
    {
     "data": {
      "image/png": "[encoded data removed]",
      "text/plain": [
       "<Figure size 640x480 with 1 Axes>"
      ]
     },
     "metadata": {},
     "output_type": "display_data"
    }
   ],
   "source": []
  },
  {
   "cell_type": "code",
   "execution_count": null,
   "id": "ca4a4e0b-7e3c-4195-8fb6-a625dd6981a2",
   "metadata": {},
   "outputs": [],
   "source": []
  }
 ],
 "metadata": {
  "kernelspec": {
   "display_name": "Python 3 (ipykernel)",
   "language": "python",
   "name": "python3"
  },
  "language_info": {
   "codemirror_mode": {
    "name": "ipython",
    "version": 3
   },
   "file_extension": ".py",
   "mimetype": "text/x-python",
   "name": "python",
   "nbconvert_exporter": "python",
   "pygments_lexer": "ipython3",
   "version": "3.11.3"
  }
 },
 "nbformat": 4,
 "nbformat_minor": 5
}
