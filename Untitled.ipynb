{
 "cells": [
  {
   "cell_type": "markdown",
   "id": "5c01a213-d0e8-46fd-8be4-c9fdaa9b7081",
   "metadata": {},
   "source": [
    "# Read everything in"
   ]
  },
  {
   "cell_type": "code",
   "execution_count": null,
   "id": "68f1d071-7cb5-49ee-a12f-9ba9a0e3b83f",
   "metadata": {},
   "outputs": [],
   "source": [
    "import pysis as ps\n",
    "import numpy as np\n",
    "import matplotlib as mpl\n",
    "import matplotlib.pyplot as plt\n",
    "import occultationFuncs as oF\n",
    "from config import *\n",
    "import sys\n",
    "\n",
    "# hard coding outdir for this notebook\n",
    "outdir = \"outputs/testing/\"\n",
    "\n",
    "# Welcome Message\n",
    "print(\"\\nBeginning analysis of \"+occname+\"\\n\")\n",
    "\n",
    "  #####################\n",
    "  #     READ IN DATA  #\n",
    "  #####################\n",
    "\n",
    "# Get cube-size and allocate space\n",
    "shape    = ps.CubeFile(cubdir+cubfiles[0]).shape\n",
    "if visible:\n",
    "  print(\"Visible and IR cubes\")\n",
    "  ncubs    = np.int64(len(cubfiles)/2)\n",
    "  nspec    = shape[0] + ps.CubeFile(cubdir+cubfiles[1]).shape[0]\n",
    "else:\n",
    "  print(\"IR cubes\")\n",
    "  ncubs    = len(cubfiles)\n",
    "  nspec    = shape[0]\n",
    "height   = shape[1]\n",
    "width    = shape[2]\n",
    "maxpix   = np.max((height,width))\n",
    "# Read in data, or load from save file\n",
    "try:\n",
    "  cubdata = np.load(outdir+\"/\"+occname+\"data.npy\")\n",
    "  print(\"loaded previous save file\")\n",
    "except:\n",
    "  cubdata = oF.readVIMSimaging(cubdir, cubfiles, ncubs, nspec, height, width, visible)\n",
    "  np.save(outdir+\"/\"+occname+\"data.npy\", cubdata)\n",
    "\n",
    "# Get pixel dimensions\n",
    "if ps.CubeFile(cubdir+cubfiles[0]).label['IsisCube']['Instrument']['SamplingMode'] == 'HI-RES':\n",
    "  Xpixelwidth = 0.25 # mr\n",
    "  Zpixelwidth = 0.5  # mr\n",
    "  flatfield   = ps.CubeFile(flatdir+\"ir_hires_flatfield_v0002.cub\").data\n",
    "  mode        = \"HiRes\"\n",
    "  print(\"High-Resolution Frames\")\n",
    "else:\n",
    "  Xpixelwidth = Zpixelwidth = 0.5 # mr\n",
    "  flatfield   = ps.CubeFile(flatdir+\"ir_flatfield_v0002.cub\").data\n",
    "  mode        = \"LoRes\"\n",
    "  print(\"Low-Resolution Frames\")\n",
    "\n",
    "# read in prf scans and compute metric\n",
    "Xmetrics,Zmetrics = oF.prfmetric('../data/PRFscans/makePRF270.sav', pixelSize=(Xpixelwidth,Zpixelwidth), Plots=prfplots, outdir='outputs/PRFscanplots/')"
   ]
  },
  {
   "cell_type": "code",
   "execution_count": null,
   "id": "eaaa50f3-7ffd-499d-be8d-7b3c25102bdd",
   "metadata": {},
   "outputs": [],
   "source": [
    "smoothing = 10\n",
    "smoothmono, maxcoords, Xbrights, Xcompares, Zbrights, Xtransitions, Zscan, Zcorr, Xscan, Xcorr, scanmetrics, imagemetrics, comparisons = oF.findthestar(cubdata, (100,120), Xmetrics, Zmetrics, smoothing, transwin=10, comparisonsmooth=10)"
   ]
  },
  {
   "cell_type": "code",
   "execution_count": null,
   "id": "c5bcfc04-fd7f-4c19-bba7-678f0d756406",
   "metadata": {},
   "outputs": [],
   "source": [
    "linex = np.linspace(0,len(smoothmono),len(smoothmono)*3)\n",
    "liney = (slope/250) * linex + ((offset)/0.25)\n",
    "crudephotometry = smoothmono[:,1:3,1:].sum(axis=2).sum(axis=1)/80"
   ]
  },
  {
   "cell_type": "code",
   "execution_count": null,
   "id": "545eb310-e86e-49cf-95e0-709410b733c1",
   "metadata": {},
   "outputs": [],
   "source": [
    "plt.rcParams.update({'font.size': 6})\n",
    "fig, axs = plt.subplots(figsize=(8.5,11), dpi=300, nrows=2, ncols=1)\n",
    "axs[0].plot(linex, liney, 'gray', label='eyeballed line')\n",
    "axs[0].plot(Zbrights + Zcorr, '.', markersize=1, label='Z positions')\n",
    "axs[0].plot(Xbrights + Xcorr, '.', markersize=1, label='X positions')\n",
    "axs[0].plot(Xbrights, '.', markersize=0.5, label='integer pixel position of brightest')\n",
    "axs[0].set_ylim(0,15)\n",
    "for i in range(len(Xtransitions)):\n",
    "  axs[0].axvline(Xtransitions[i,0],0,15, color='red', linestyle='dashed', linewidth=0.3)\n",
    "axs[0].set_title(\"Centering for 2.7 microns, \"+occname+\", \"+str(smoothing)+\" frame smoothing\")\n",
    "axs[0].set_ylabel(\"Pixel Number\")\n",
    "axs[0].set_xlabel(\"Frame Number (ish) NOTE: Frame Numbers are altered by smoothing in current version of code, to be fixed later\")\n",
    "axs[0].legend(loc='upper left')\n",
    "\n",
    "axs[1].plot(crudephotometry, linewidth=0.3, label='crude photometry')\n",
    "for i in range(len(Xtransitions)):\n",
    "  axs[1].axvline(Xtransitions[i,0],0,1, color='red', linestyle='dashed', linewidth=0.3)\n",
    "axs[1].set_yscale(\"log\")\n",
    "axs[1].set_title(\"Photometry for 2.7 microns, \"+occname+\", \"+str(smoothing)+\" frame smoothing\")\n",
    "axs[1].set_ylabel(\"Flux summed over full smoothed frame\")\n",
    "axs[1].set_xlabel(\"Frame Number (ish) NOTE: Frame Numbers are altered by smoothing in current version of code, to be fixed later\")\n",
    "axs[1].legend()\n",
    "\n",
    "fig.savefig(outdir + occname + \"-\" + str(smoothing) + \"-log.png\")"
   ]
  },
  {
   "cell_type": "code",
   "execution_count": null,
   "id": "97a051ca-8fcf-4ae5-b7c2-73d5d9433219",
   "metadata": {},
   "outputs": [],
   "source": [
    "plt.rcParams.update({'font.size': 6})\n",
    "fig, axs = plt.subplots(figsize=(8.5,11), dpi=300, nrows=2, ncols=1)\n",
    "axs[0].plot(linex, liney, 'gray', label='eyeballed line')\n",
    "axs[0].plot(Zbrights + Zcorr, '.', markersize=1, label='Z positions')\n",
    "axs[0].plot(Xbrights + Xcorr, '.', markersize=1, label='X positions')\n",
    "axs[0].plot(Xbrights, '.', markersize=0.5, label='integer pixel position of brightest')\n",
    "axs[0].set_ylim(0,7)\n",
    "axs[0].set_xlim(zoomin,zoomax)\n",
    "for i in range(len(Xtransitions)):\n",
    "  axs[0].axvline(Xtransitions[i,0],0,15, color='red', linestyle='dashed', linewidth=0.3)\n",
    "axs[0].set_title(\"Centering for 2.7 microns, \"+occname+\", \"+str(smoothing)+\" frame smoothing\")\n",
    "axs[0].set_ylabel(\"Pixel Number\")\n",
    "axs[0].set_xlabel(\"Frame Number (ish) NOTE: Frame Numbers are altered by smoothing in current version of code, to be fixed later\")\n",
    "axs[0].legend()\n",
    "\n",
    "axs[1].plot(crudephotometry, linewidth=0.3, label='crude photometry')\n",
    "for i in range(len(Xtransitions)):\n",
    "  axs[1].axvline(Xtransitions[i,0],0,1, color='red', linestyle='dashed', linewidth=0.3)\n",
    "axs[1].set_yscale(\"log\")\n",
    "axs[1].set_xlim(zoomin,zoomax)\n",
    "axs[1].set_title(\"Photometry for 2.7 microns, \"+occname+\", \"+str(smoothing)+\" frame smoothing\")\n",
    "axs[1].set_ylabel(\"Flux summed over full smoothed frame\")\n",
    "axs[1].set_xlabel(\"Frame Number (ish) NOTE: Frame Numbers are altered by smoothing in current version of code, to be fixed later\")\n",
    "axs[1].legend()\n",
    "\n",
    "fig.savefig(outdir + occname + \"-\" + str(smoothing) + \"-log-zoom.png\")"
   ]
  },
  {
   "cell_type": "code",
   "execution_count": null,
   "id": "af9e5e38-2bc2-4133-94fe-251dde2f2651",
   "metadata": {},
   "outputs": [],
   "source": [
    "plt.clf()\n",
    "plt.figure(figsize=(15,11))\n",
    "plt.plot(linex[950*3:], liney[950*3:]%1, 'r.', markersize=0.5, label=\"eyeballed line\")\n",
    "plt.plot(Xcorr, '.', label='X subpixel positions')\n",
    "plt.title(\"REVERSE POLARITY FULL METRIC ABSXCORR SMOOTHCHI PIXELBOUND\" + occname + \" X corrections, smoothing \" + str(smoothing))\n",
    "plt.ylabel(\"offset from edge of X pixel\")\n",
    "plt.xlabel(\"not quite frames\")\n",
    "plt.xlim(700,1500)\n",
    "plt.legend(loc='upper left')\n",
    "plt.savefig(outdir + occname + \"-\" + str(smoothing) + \"-Xcorrections-addline.png\")"
   ]
  },
  {
   "cell_type": "code",
   "execution_count": null,
   "id": "9b1ae6e4-075c-4eae-ac2d-2b3d6ca36b42",
   "metadata": {},
   "outputs": [],
   "source": [
    "plt.figure(figsize=(15,11))\n",
    "plt.plot(imagemetrics[:,0], '.', label='X image metrics')\n",
    "plt.xlim(700,1500)\n",
    "plt.yscale(\"log\")\n",
    "plt.hlines(np.nanmin(Xmetrics[200:359,8:14,3]), 0, len(imagemetrics), color='orange', label=\"sensitivity limit of metric\")\n",
    "plt.vlines(Xtransitions[:,0],0,10, color='red', linestyle='dashed', linewidth=0.5, label='calculated transition frames')\n",
    "plt.ylim(1e-6,1e1)\n",
    "plt.title(\"image metrics for each smoothed frame\")\n",
    "plt.ylabel(\"image metric\")\n",
    "plt.xlabel(\"not quite frame number\")\n",
    "plt.legend(loc='upper left')\n",
    "plt.savefig(outdir + occname + \"-\" + str(smoothing) + \"-imagemetrics.png\")"
   ]
  },
  {
   "cell_type": "code",
   "execution_count": null,
   "id": "5aefdadc-aef1-4390-a56c-18676fb9e60f",
   "metadata": {},
   "outputs": [],
   "source": [
    "plt.figure(figsize=(15,11))\n",
    "plt.plot(Xscan, label=\"X scans\")\n",
    "plt.plot(Zscan, label=\"Z scans\")\n",
    "plt.title(\"which X scan is used, binned from Zcorr, smoothing \" + str(smoothing))\n",
    "plt.ylabel(\"scanline number\")\n",
    "plt.xlabel(\"not quite frame\")\n",
    "plt.legend(loc='upper left')\n",
    "plt.savefig(outdir + occname + \"-\" + str(smoothing) + \"-scans.png\")"
   ]
  },
  {
   "cell_type": "code",
   "execution_count": null,
   "id": "79f90430-bce5-46b6-914f-9037c722d8ee",
   "metadata": {},
   "outputs": [],
   "source": [
    "plt.figure(figsize=(15,11))\n",
    "plt.plot(Zcorr, label=\"Z correction\")\n",
    "plt.hlines((Xmetrics[:,8:14,1].mean(axis=0) + 0.25)/0.5, 0, len(Zcorr), color='orange', label=\"X scans\")\n",
    "plt.title(\"Z fit, with nearest X scanlines in orange, 8 at bottom 13 at top, smoothing \" + str(smoothing))\n",
    "plt.ylabel(\"pixel location\")\n",
    "plt.xlabel(\"not quite frame\")\n",
    "plt.legend(loc='upper left')\n",
    "plt.savefig(outdir + occname + \"-\" + str(smoothing) + \"-zcorrs.png\")"
   ]
  },
  {
   "cell_type": "code",
   "execution_count": null,
   "id": "877d442e-57af-406d-adb2-bbc352dd8503",
   "metadata": {},
   "outputs": [],
   "source": [
    "plt.figure(figsize=(15,11))\n",
    "plt.plot(Xbrights, label=\"Xbrights\")\n",
    "plt.plot(Xcompares, label=\"Offset of comparison\")\n",
    "plt.title(\"proving that we are comparing to the left on the left pixel, and the right on the right pixel\")\n",
    "plt.ylabel(\"pixel\")\n",
    "plt.xlabel(\"pseudoframes\")\n",
    "plt.legend()\n",
    "plt.savefig(outdir + occname + \"-\" + str(smoothing) + \"-brightsoffsets.png\")"
   ]
  },
  {
   "cell_type": "code",
   "execution_count": null,
   "id": "685ca74c-f59d-459b-a859-6699d8f55a17",
   "metadata": {},
   "outputs": [],
   "source": [
    "plt.figure(figsize=(15,11))\n",
    "plt.plot(maxcoords[1], '.')\n",
    "plt.title(\"What is the actual max\")\n",
    "plt.ylabel(\"X pixel number\")\n",
    "plt.xlabel(\"not quite frames\")\n",
    "plt.savefig(outdir + occname + \"-\" + str(smoothing) + \"-actuallybrightest.png\")"
   ]
  },
  {
   "cell_type": "code",
   "execution_count": null,
   "id": "1b4d2b50-8280-485e-9838-6ec8145dd360",
   "metadata": {},
   "outputs": [],
   "source": [
    "Xtransitions"
   ]
  }
 ],
 "metadata": {
  "kernelspec": {
   "display_name": "Python 3 (ipykernel)",
   "language": "python",
   "name": "python3"
  },
  "language_info": {
   "codemirror_mode": {
    "name": "ipython",
    "version": 3
   },
   "file_extension": ".py",
   "mimetype": "text/x-python",
   "name": "python",
   "nbconvert_exporter": "python",
   "pygments_lexer": "ipython3",
   "version": "3.11.4"
  }
 },
 "nbformat": 4,
 "nbformat_minor": 5
}
