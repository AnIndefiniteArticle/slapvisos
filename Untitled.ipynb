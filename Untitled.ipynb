{
 "cells": [
  {
   "cell_type": "markdown",
   "id": "5c01a213-d0e8-46fd-8be4-c9fdaa9b7081",
   "metadata": {},
   "source": [
    "# Read everything in"
   ]
  },
  {
   "cell_type": "code",
   "execution_count": 1,
   "id": "68f1d071-7cb5-49ee-a12f-9ba9a0e3b83f",
   "metadata": {},
   "outputs": [
    {
     "name": "stderr",
     "output_type": "stream",
     "text": [
      "/data/vimsSaturnOccs/slapvisos/venv/lib/python3.11/site-packages/pysis/env.py:33: RuntimeWarning: Could not find isis. Is `ISISROOT` set?\n",
      "  warnings.warn('Could not find isis. Is `ISISROOT` set?', RuntimeWarning)\n"
     ]
    },
    {
     "name": "stdout",
     "output_type": "stream",
     "text": [
      "\n",
      "Beginning analysis of AlpOri271S99\n",
      "\n",
      "IR cubes\n",
      "loaded previous save file\n",
      "High-Resolution Frames\n"
     ]
    }
   ],
   "source": [
    "import pysis as ps\n",
    "import numpy as np\n",
    "import matplotlib as mpl\n",
    "import matplotlib.pyplot as plt\n",
    "import occultationFuncs as oF\n",
    "from config import *\n",
    "import sys\n",
    "\n",
    "# hard coding outdir for this notebook\n",
    "outdir = \"outputs/testing/\"\n",
    "\n",
    "# Welcome Message\n",
    "print(\"\\nBeginning analysis of \"+occname+\"\\n\")\n",
    "\n",
    "  #####################\n",
    "  #     READ IN DATA  #\n",
    "  #####################\n",
    "\n",
    "# Get cube-size and allocate space\n",
    "shape    = ps.CubeFile(cubdir+cubfiles[0]).shape\n",
    "if visible:\n",
    "  print(\"Visible and IR cubes\")\n",
    "  ncubs    = np.int64(len(cubfiles)/2)\n",
    "  nspec    = shape[0] + ps.CubeFile(cubdir+cubfiles[1]).shape[0]\n",
    "else:\n",
    "  print(\"IR cubes\")\n",
    "  ncubs    = len(cubfiles)\n",
    "  nspec    = shape[0]\n",
    "height   = shape[1]\n",
    "width    = shape[2]\n",
    "maxpix   = np.max((height,width))\n",
    "# Read in data, or load from save file\n",
    "try:\n",
    "  cubdata = np.load(outdir+\"/\"+occname+\"data.npy\")\n",
    "  print(\"loaded previous save file\")\n",
    "except:\n",
    "  cubdata = oF.readVIMSimaging(cubdir, cubfiles, ncubs, nspec, height, width, visible)\n",
    "  np.save(outdir+\"/\"+occname+\"data.npy\", (cubdata))\n",
    "\n",
    "# Get pixel dimensions\n",
    "if ps.CubeFile(cubdir+cubfiles[0]).label['IsisCube']['Instrument']['SamplingMode'] == 'HI-RES':\n",
    "  Xpixelwidth = 0.25 # mr\n",
    "  Zpixelwidth = 0.5  # mr\n",
    "  flatfield   = ps.CubeFile(flatdir+\"ir_hires_flatfield_v0002.cub\").data\n",
    "  mode        = \"HiRes\"\n",
    "  print(\"High-Resolution Frames\")\n",
    "else:\n",
    "  Xpixelwidth = Zpixelwidth = 0.5 # mr\n",
    "  flatfield   = ps.CubeFile(flatdir+\"ir_flatfield_v0002.cub\").data\n",
    "  mode        = \"LoRes\"\n",
    "  print(\"Low-Resolution Frames\")\n",
    "\n",
    "# read in prf scans and compute metric\n",
    "Xmetrics,Zmetrics = oF.prfmetric('../data/PRFscans/makePRF270.sav', pixelSize=(Xpixelwidth,Zpixelwidth), Plots=prfplots, outdir='outputs/PRFscanplots/')"
   ]
  },
  {
   "cell_type": "code",
   "execution_count": 4,
   "id": "eaaa50f3-7ffd-499d-be8d-7b3c25102bdd",
   "metadata": {},
   "outputs": [
    {
     "name": "stdout",
     "output_type": "stream",
     "text": [
      "smoothing input data over spectral window\n",
      "pixel-wise clipping\n",
      "0 0 (array([], dtype=int64),) (array([], dtype=int64),)\n",
      "1 0 (array([], dtype=int64),) (array([], dtype=int64),)\n",
      "2 0 (array([], dtype=int64),) (array([], dtype=int64),)\n",
      "3 0 (array([], dtype=int64),) (array([], dtype=int64),)\n",
      "0 1 (array([], dtype=int64),) (array([], dtype=int64),)\n",
      "1 1 (array([], dtype=int64),) (array([], dtype=int64),)\n",
      "2 1 (array([], dtype=int64),) (array([], dtype=int64),)\n",
      "3 1 (array([], dtype=int64),) (array([], dtype=int64),)\n",
      "0 2 (array([], dtype=int64),) (array([], dtype=int64),)\n",
      "1 2 (array([], dtype=int64),) (array([], dtype=int64),)\n",
      "2 2 (array([], dtype=int64),) (array([], dtype=int64),)\n",
      "3 2 (array([], dtype=int64),) (array([], dtype=int64),)\n",
      "0 3 (array([], dtype=int64),) (array([], dtype=int64),)\n",
      "1 3 (array([], dtype=int64),) (array([], dtype=int64),)\n",
      "2 3 (array([], dtype=int64),) (array([], dtype=int64),)\n",
      "3 3 (array([], dtype=int64),) (array([], dtype=int64),)\n",
      "0 4 (array([], dtype=int64),) (array([], dtype=int64),)\n",
      "1 4 (array([], dtype=int64),) (array([], dtype=int64),)\n",
      "2 4 (array([], dtype=int64),) (array([], dtype=int64),)\n",
      "3 4 (array([], dtype=int64),) (array([], dtype=int64),)\n",
      "0 5 (array([], dtype=int64),) (array([], dtype=int64),)\n",
      "1 5 (array([], dtype=int64),) (array([], dtype=int64),)\n",
      "2 5 (array([], dtype=int64),) (array([], dtype=int64),)\n",
      "3 5 (array([], dtype=int64),) (array([], dtype=int64),)\n",
      "0 6 (array([], dtype=int64),) (array([], dtype=int64),)\n",
      "1 6 (array([], dtype=int64),) (array([], dtype=int64),)\n",
      "2 6 (array([], dtype=int64),) (array([], dtype=int64),)\n",
      "3 6 (array([], dtype=int64),) (array([], dtype=int64),)\n",
      "0 7 (array([], dtype=int64),) (array([], dtype=int64),)\n",
      "1 7 (array([], dtype=int64),) (array([], dtype=int64),)\n",
      "2 7 (array([], dtype=int64),) (array([], dtype=int64),)\n",
      "3 7 (array([], dtype=int64),) (array([], dtype=int64),)\n",
      "0 8 (array([], dtype=int64),) (array([], dtype=int64),)\n",
      "1 8 (array([], dtype=int64),) (array([], dtype=int64),)\n",
      "2 8 (array([], dtype=int64),) (array([], dtype=int64),)\n",
      "3 8 (array([], dtype=int64),) (array([], dtype=int64),)\n",
      "0 9 (array([], dtype=int64),) (array([], dtype=int64),)\n",
      "1 9 (array([], dtype=int64),) (array([], dtype=int64),)\n",
      "2 9 (array([], dtype=int64),) (array([], dtype=int64),)\n",
      "3 9 (array([], dtype=int64),) (array([], dtype=int64),)\n",
      "0 10 (array([], dtype=int64),) (array([], dtype=int64),)\n",
      "1 10 (array([], dtype=int64),) (array([], dtype=int64),)\n",
      "2 10 (array([], dtype=int64),) (array([], dtype=int64),)\n",
      "3 10 (array([], dtype=int64),) (array([], dtype=int64),)\n",
      "0 11 (array([], dtype=int64),) (array([], dtype=int64),)\n",
      "1 11 (array([], dtype=int64),) (array([], dtype=int64),)\n",
      "2 11 (array([], dtype=int64),) (array([], dtype=int64),)\n",
      "3 11 (array([], dtype=int64),) (array([], dtype=int64),)\n",
      "0 12 (array([], dtype=int64),) (array([], dtype=int64),)\n",
      "1 12 (array([], dtype=int64),) (array([], dtype=int64),)\n",
      "2 12 (array([], dtype=int64),) (array([], dtype=int64),)\n",
      "3 12 (array([], dtype=int64),) (array([], dtype=int64),)\n",
      "0 13 (array([], dtype=int64),) (array([], dtype=int64),)\n",
      "1 13 (array([], dtype=int64),) (array([], dtype=int64),)\n",
      "2 13 (array([], dtype=int64),) (array([], dtype=int64),)\n",
      "3 13 (array([], dtype=int64),) (array([], dtype=int64),)\n",
      "0 14 (array([], dtype=int64),) (array([], dtype=int64),)\n",
      "1 14 (array([], dtype=int64),) (array([], dtype=int64),)\n",
      "2 14 (array([], dtype=int64),) (array([], dtype=int64),)\n",
      "3 14 (array([], dtype=int64),) (array([], dtype=int64),)\n",
      "0 15 (array([], dtype=int64),) (array([], dtype=int64),)\n",
      "1 15 (array([], dtype=int64),) (array([], dtype=int64),)\n",
      "2 15 (array([], dtype=int64),) (array([], dtype=int64),)\n",
      "3 15 (array([], dtype=int64),) (array([], dtype=int64),)\n",
      "(array([], dtype=int64), array([], dtype=int64), array([], dtype=int64)) (1504, 4, 16)\n",
      "taking the rolling average\n",
      "finding the brightest pixels in each frame\n",
      "finding the transition frames in X\n",
      "finding which Zscan to use for each frame\n",
      "Z centering\n",
      "finding which Xscans to use\n",
      "X centering\n"
     ]
    },
    {
     "name": "stderr",
     "output_type": "stream",
     "text": [
      "/data/vimsSaturnOccs/slapvisos/occultationFuncs.py:879: RuntimeWarning: divide by zero encountered in divide\n",
      "  imagemetrics = compix/bripix\n"
     ]
    }
   ],
   "source": [
    "smoothmono, maxcoords, Xbrights, Xcompares, Zbrights, Xtransitions, Zscan, Zcorr, Xscan, Xcorr, scanmetrics, imagemetrics, comparisons, columns, compares, imagemetric = oF.findthestar(cubdata, (100,120), Xmetrics, Zmetrics, window=20, windowclip=10, metriccutoff=0.01, sigclip=100)"
   ]
  },
  {
   "cell_type": "code",
   "execution_count": null,
   "id": "c5bcfc04-fd7f-4c19-bba7-678f0d756406",
   "metadata": {},
   "outputs": [],
   "source": [
    "linex = np.linspace(0,len(smoothmono),len(smoothmono)*3)\n",
    "liney = (slope/250) * linex + ((offset)/0.25)\n",
    "#crudephotometry = smoothmono[:,1:3,1:].sum(axis=2).sum(axis=1)\n",
    "crudephotometry = np.zeros(len(smoothmono))\n",
    "for i in range(len(crudephotometry)):\n",
    "    crudephotometry[i] = smoothmono[i, np.max((0, Zbrights[i]-1)):np.min((smoothmono.shape[1]-1, Zbrights[i]+1)), np.max((1,Xbrights[i]-1)):np.min((smoothmono.shape[2]-1, Xbrights[i]+1))].sum()\n",
    "#leftrightcolors = [None]*len(Xbrights)\n",
    "#for i in range(len(Xbrights)):\n",
    "#    if Xbrights[i] == -1:\n",
    "#        leftrightcolors[i] = 'red'\n",
    "#    else:\n",
    "#        leftrightcolors[i] = 'blue'"
   ]
  },
  {
   "cell_type": "code",
   "execution_count": null,
   "id": "545eb310-e86e-49cf-95e0-709410b733c1",
   "metadata": {},
   "outputs": [],
   "source": [
    "plt.rcParams.update({'font.size': 6})\n",
    "fig, axs = plt.subplots(figsize=(8.5,11), dpi=300, nrows=2, ncols=1)\n",
    "axs[0].plot(linex, liney, 'gray', label='eyeballed line')\n",
    "#axs[0].plot(Zbrights + Zcorr, '.', markersize=1, label='Z positions')\n",
    "axs[0].plot(Xbrights+0.5, '.', markersize=0.5, label='integer pixel position of brightest')\n",
    "axs[0].plot(Xbrights + Xcorr, '.', markersize=1, label='X positions')\n",
    "for i in range(len(Xtransitions)):\n",
    "  axs[0].axvline(Xtransitions[i,0],0,15, color='red', linestyle='dashed', linewidth=0.3)\n",
    "axs[0].set_title(\"Centering for 2.7 microns, \" + occname)\n",
    "axs[0].set_ylabel(\"Column Number\")\n",
    "axs[0].set_xlabel(\"Frame Number\")\n",
    "axs[0].legend(loc='upper left')\n",
    "im = axs[0].imshow(smoothmono.sum(axis=1).transpose(), aspect=\"auto\", norm=\"log\", interpolation=\"none\", vmin=0.1, origin=\"lower\", extent=(0,smoothmono.shape[0],0,smoothmono.shape[2]))\n",
    "axs[0].set_facecolor('xkcd:dark purple')\n",
    "fig.colorbar(im, ax=axs[0], label=\"data numbers summed over column\")\n",
    "\n",
    "axs[1].plot(crudephotometry, 'k', linewidth=0.3, label='3x3 Aperture Photometry')\n",
    "for i in range(len(Xtransitions)):\n",
    "  axs[1].axvline(Xtransitions[i,0],0,1, color='red', linestyle='dashed', linewidth=0.3)\n",
    "#axs[1].set_yscale(\"log\")\n",
    "axs[1].set_title(\"Photometry for 2.7 microns, \" + occname)\n",
    "axs[1].set_ylabel(\"Average data number in max 3x3 aperture following star\")\n",
    "axs[1].set_xlabel(\"Frame Number\")\n",
    "axs[1].legend()\n",
    "axs[1].set_ylim(1e-2,3e2)\n",
    "axs[1].set_xlim(0,len(crudephotometry))\n",
    "#im = axs[1].imshow(smoothmono.max(axis=2).transpose(), aspect=\"auto\", norm=\"log\", interpolation=\"none\", vmin=0.3, origin=\"lower\", extent=(0,smoothmono.shape[0],0,smoothmono.shape[1]))\n",
    "#axs[1].set_facecolor('xkcd:dark purple')\n",
    "fig.colorbar(im, ax=axs[1], label=\"this color bar is here so x axes on the plots line up\")\n",
    "\n",
    "fig.savefig(outdir + occname + \"-log.png\")"
   ]
  },
  {
   "cell_type": "code",
   "execution_count": null,
   "id": "97a051ca-8fcf-4ae5-b7c2-73d5d9433219",
   "metadata": {},
   "outputs": [],
   "source": [
    "plt.rcParams.update({'font.size': 6})\n",
    "fig, axs = plt.subplots(figsize=(8.5,11), dpi=300, nrows=2, ncols=1)\n",
    "axs[0].plot(linex, liney, 'gray', label='eyeballed line')\n",
    "#axs[0].plot(Zbrights + Zcorr, '.', markersize=1, label='Z positions')\n",
    "axs[0].plot(Xbrights + 0.5, '.', markersize=0.5, label='integer pixel position of brightest')\n",
    "axs[0].plot(Xbrights + Xcorr, '.', markersize=1, label='X positions')\n",
    "axs[0].set_ylim(0,7)\n",
    "axs[0].set_xlim(zoomin,zoomax)\n",
    "for i in range(len(Xtransitions)):\n",
    "  axs[0].axvline(Xtransitions[i,0],0,15, color='red', linestyle='dashed', linewidth=0.3)\n",
    "axs[0].set_title(\"Centering for 2.7 microns, \" + occname)\n",
    "axs[0].set_ylabel(\"Column Number\")\n",
    "axs[0].set_xlabel(\"Frame Number\")\n",
    "axs[0].legend()\n",
    "im = axs[0].imshow(smoothmono.sum(axis=1).transpose(), aspect=\"auto\", norm=\"log\", interpolation=\"none\", vmin=0.1, origin=\"lower\", extent=(0,smoothmono.shape[0],0,smoothmono.shape[2]))\n",
    "axs[0].set_facecolor('xkcd:dark purple')\n",
    "fig.colorbar(im, ax=axs[0], label=\"data numbers summed over column\")\n",
    "\n",
    "axs[1].plot(crudephotometry, 'k', linewidth=0.3, label='3x3 Aperture Photometry')\n",
    "for i in range(len(Xtransitions)):\n",
    "  axs[1].axvline(Xtransitions[i,0],0,1, color='red', linestyle='dashed', linewidth=0.3)\n",
    "#axs[1].set_yscale(\"log\")\n",
    "axs[1].set_xlim(zoomin,zoomax)\n",
    "#axs[1].set_xlim(950,1000)\n",
    "axs[1].set_ylim(0,230)\n",
    "axs[1].set_title(\"Photometry for 2.7 microns, \" + occname)\n",
    "axs[1].set_ylabel(\"Average data number in max 3x3 aperture following star\")\n",
    "axs[1].set_xlabel(\"Frame Number\")\n",
    "axs[1].legend()\n",
    "fig.colorbar(im, ax=axs[1], label=\"this color bar is here so x axes on the plots line up\")\n",
    "\n",
    "\n",
    "fig.savefig(outdir + occname + \"-linear-zoom.png\")"
   ]
  },
  {
   "cell_type": "code",
   "execution_count": null,
   "id": "f30109b1-5414-4b24-9bd7-d1ce36940ba5",
   "metadata": {},
   "outputs": [],
   "source": [
    "fig,ax = plt.subplots(figsize=(15,11))\n",
    "ax.imshow(smoothmono.sum(axis=2).transpose(), aspect=\"auto\", norm=\"log\", interpolation=\"none\", vmin=0.1, origin=\"lower\", extent=(0,smoothmono.shape[0],0,smoothmono.shape[1]))\n",
    "ax.set_facecolor('xkcd:dark purple')\n",
    "ax.plot(Zbrights + Zcorr, '.', color=\"orange\", markersize=1, label='Z positions')\n",
    "ax.set_title(\"Z brightness and centering\")\n",
    "ax.set_ylabel(\"Pixel\")\n",
    "ax.set_xlabel(\"Frame\")\n",
    "fig.savefig(outdir + occname + \"-Zcenters.png\")"
   ]
  },
  {
   "cell_type": "code",
   "execution_count": null,
   "id": "af9e5e38-2bc2-4133-94fe-251dde2f2651",
   "metadata": {},
   "outputs": [],
   "source": [
    "plt.clf()\n",
    "plt.figure(figsize=(15,11))\n",
    "plt.plot(linex[950*3:], liney[950*3:]%1, 'r.', markersize=0.5, label=\"eyeballed line\")\n",
    "plt.plot(Xcorr, '.', label='X subpixel positions')\n",
    "plt.title(occname + \" X corrections \")\n",
    "plt.ylabel(\"offset from edge of X pixel\")\n",
    "plt.xlabel(\"Frame Number\")\n",
    "#plt.xlim(800,1500)\n",
    "plt.ylim(0,1.1)\n",
    "plt.legend(loc='upper left')\n",
    "#plt.grid()\n",
    "plt.savefig(outdir + occname + \"-Xcorrections-addline.png\")"
   ]
  },
  {
   "cell_type": "code",
   "execution_count": null,
   "id": "9b1ae6e4-075c-4eae-ac2d-2b3d6ca36b42",
   "metadata": {},
   "outputs": [],
   "source": [
    "plt.figure(figsize=(15,11))\n",
    "plt.plot((imagemetrics[:,0]), '.', label='X image metrics')\n",
    "#plt.plot((imagemetric), '.', label='X image metrics')\n",
    "#plt.xlim(700,1500)\n",
    "plt.yscale(\"log\")\n",
    "plt.hlines(np.nanmin(Xmetrics[:,8:14,3]), 0, len(imagemetrics), color='orange', label=\"sensitivity limit of metric looking left\")\n",
    "plt.hlines(np.nanmin(Xmetrics[:,8:14,4]), 0, len(imagemetrics), color='brown', label=\"sensitivity limit of metric looking right\")\n",
    "plt.vlines(Xtransitions[:,0],0,10, color='red', linestyle='dashed', linewidth=0.5, label='calculated transition frames')\n",
    "#plt.ylim(1e-6,3e0)\n",
    "plt.title(\"image metrics for each smoothed frame\")\n",
    "plt.ylabel(\"image metric\")\n",
    "plt.xlabel(\"Frame Number\")\n",
    "plt.legend(loc='upper left')\n",
    "plt.savefig(outdir + occname + \"-imagemetrics.png\")"
   ]
  },
  {
   "cell_type": "code",
   "execution_count": null,
   "id": "5aefdadc-aef1-4390-a56c-18676fb9e60f",
   "metadata": {},
   "outputs": [],
   "source": [
    "plt.figure(figsize=(15,11))\n",
    "plt.plot(Xscan, label=\"X scans\")\n",
    "plt.plot(Zscan, label=\"Z scans\")\n",
    "plt.title(\"which X scan is used, binned from Zcorr\")\n",
    "plt.ylabel(\"scanline number\")\n",
    "plt.xlabel(\"Frame Number\")\n",
    "plt.legend(loc='upper left')\n",
    "plt.savefig(outdir + occname + \"-scans.png\")"
   ]
  },
  {
   "cell_type": "code",
   "execution_count": null,
   "id": "79f90430-bce5-46b6-914f-9037c722d8ee",
   "metadata": {},
   "outputs": [],
   "source": [
    "plt.figure(figsize=(15,11))\n",
    "plt.plot(Zcorr, '.', label=\"Z correction\")\n",
    "plt.hlines((Xmetrics[:,8:14,1].mean(axis=0) + 0.25)/0.5, 0, len(Zcorr), color='orange', label=\"X scans\")\n",
    "plt.title(\"Z fit, with nearest X scanlines in orange, 8 at bottom 13 at top\")\n",
    "plt.ylabel(\"pixel location\")\n",
    "plt.xlabel(\"Frame Number\")\n",
    "plt.legend(loc='upper left')\n",
    "plt.savefig(outdir + occname + \"-zcorrs.png\")"
   ]
  },
  {
   "cell_type": "code",
   "execution_count": null,
   "id": "877d442e-57af-406d-adb2-bbc352dd8503",
   "metadata": {},
   "outputs": [],
   "source": [
    "plt.figure(figsize=(15,11))\n",
    "plt.plot(Xbrights, label=\"Xbrights\")\n",
    "plt.plot(Xcompares, label=\"Offset of comparison\")\n",
    "plt.title(\"proving that we are comparing to the left on the left pixel, and the right on the right pixel\")\n",
    "plt.ylabel(\"pixel\")\n",
    "plt.xlabel(\"Frame Number\")\n",
    "plt.legend()\n",
    "#plt.xlim(940,970)\n",
    "plt.savefig(outdir + occname + \"-brightsoffsets.png\")"
   ]
  },
  {
   "cell_type": "code",
   "execution_count": null,
   "id": "685ca74c-f59d-459b-a859-6699d8f55a17",
   "metadata": {},
   "outputs": [],
   "source": [
    "plt.figure(figsize=(15,11))\n",
    "plt.plot(maxcoords[1], '.')\n",
    "plt.title(\"What is the actual max\")\n",
    "plt.ylabel(\"X pixel number\")\n",
    "plt.xlabel(\"Frame Number\")\n",
    "plt.savefig(outdir + occname + \"-actuallybrightest.png\")"
   ]
  },
  {
   "cell_type": "code",
   "execution_count": null,
   "id": "1b4d2b50-8280-485e-9838-6ec8145dd360",
   "metadata": {},
   "outputs": [],
   "source": [
    "plt.figure(figsize=(15,11))\n",
    "plt.plot(np.nanmin(comparisons, axis=1), linewidth=0.3)\n",
    "plt.yscale(\"log\")\n",
    "#plt.ylim(1e-5, 1e1)\n",
    "plt.ylabel(\"Chi-Squared of fit to metric curves\")\n",
    "plt.xlabel(\"Frame\")\n",
    "plt.title(\"Chi-Squared significance of centering fit per frame, lower is better\")\n",
    "plt.savefig(outdir + occname + \"-centeringsignificance.png\")"
   ]
  },
  {
   "cell_type": "code",
   "execution_count": null,
   "id": "f4c1c02f-95d7-4109-b660-6d2c92d6e48a",
   "metadata": {},
   "outputs": [],
   "source": [
    "fig,ax = plt.subplots(figsize=(15,11))\n",
    "Xstds = [oF.rolling_std(smoothmono.sum(axis=1)[:,i], 5, axis=0).transpose() for i in range(smoothmono.shape[2])]\n",
    "Xstdim = np.stack(Xstds, axis=1)\n",
    "im = plt.imshow(Xstdim.transpose(), aspect=\"auto\", norm=\"log\", interpolation=\"none\", origin=\"lower\", vmin=0.3, extent=(0,smoothmono.shape[0],0,smoothmono.shape[2]))\n",
    "ax.set_facecolor('xkcd:dark purple')\n",
    "fig.colorbar(im, ax=ax)\n",
    "ax.set_title(occname + \" X std dev in window\")\n",
    "ax.set_ylabel(\"X pixel\")\n",
    "ax.set_xlabel(\"Frame\")\n",
    "fig.savefig(outdir + occname + \"-stddevX.png\")\n",
    "#ax.set_yscale(\"log\")"
   ]
  },
  {
   "cell_type": "code",
   "execution_count": null,
   "id": "4b838199-dc63-4a8d-a21e-b15bdbe400a7",
   "metadata": {},
   "outputs": [],
   "source": [
    "fig,ax = plt.subplots(figsize=(15,11))\n",
    "Zstds = [oF.rolling_std(smoothmono.sum(axis=2)[:,i], 5, axis=0).transpose() for i in range(smoothmono.shape[1])]\n",
    "Zstdim = np.stack(Zstds, axis=1)\n",
    "im = plt.imshow(Zstdim.transpose(), aspect=\"auto\", norm=\"log\", interpolation=\"none\", origin=\"lower\", vmin=0.3, extent=(0,smoothmono.shape[0],0,smoothmono.shape[2]))\n",
    "ax.set_facecolor('xkcd:dark purple')\n",
    "fig.colorbar(im, ax=ax)\n",
    "ax.set_title(occname + \" Z std dev in window\")\n",
    "ax.set_ylabel(\"Z pixel\")\n",
    "ax.set_xlabel(\"Frame\")\n",
    "fig.savefig(outdir + occname + \"-stddevZ.png\")"
   ]
  },
  {
   "cell_type": "code",
   "execution_count": null,
   "id": "be6cf439-157e-4097-b000-49585af7a948",
   "metadata": {},
   "outputs": [],
   "source": [
    "plt.figure(figsize=(15,11))\n",
    "plt.plot(cubdata[:,100:120,:,1:].mean(axis=1).sum(axis=1).sum(axis=1))\n",
    "plt.plot(cubdata[:,100:120,0:3,1:4].mean(axis=1).sum(axis=1).sum(axis=1))\n",
    "plt.plot(cubdata[:,100:120].mean(axis=1).max(axis=1).max(axis=1))\n",
    "#plt.xlim(0,900)\n",
    "#plt.ylim(80,100)"
   ]
  },
  {
   "cell_type": "code",
   "execution_count": null,
   "id": "cb982fec-663f-42bd-aa54-86994d451aec",
   "metadata": {},
   "outputs": [],
   "source": [
    "#labels = oF.getheaders(cubdir, cubfiles, ncubs)\n",
    "label = ps.CubeFile(cubdir+cubfiles[-1]).label"
   ]
  },
  {
   "cell_type": "code",
   "execution_count": null,
   "id": "23df2471-9c64-401f-9a39-510c434f38f1",
   "metadata": {},
   "outputs": [],
   "source": [
    "#labels[0]\n",
    "#label"
   ]
  },
  {
   "cell_type": "code",
   "execution_count": null,
   "id": "6e9ab7bf-8d3d-4568-98e1-2d35a25c791e",
   "metadata": {},
   "outputs": [],
   "source": [
    "#labels[-1]"
   ]
  },
  {
   "cell_type": "code",
   "execution_count": null,
   "id": "12ac79c0-9e5e-4110-93db-2614a203e89c",
   "metadata": {},
   "outputs": [],
   "source": [
    "#len(labels)"
   ]
  },
  {
   "cell_type": "code",
   "execution_count": null,
   "id": "d83a112b-ce00-409b-a40f-18bb7255352b",
   "metadata": {},
   "outputs": [],
   "source": [
    "plt.imshow(abs(smoothmono[950])**0.1)"
   ]
  },
  {
   "cell_type": "code",
   "execution_count": null,
   "id": "86e42182-9301-498b-a6d0-ca301c854fba",
   "metadata": {},
   "outputs": [],
   "source": [
    "plt.plot(smoothmono[1:,:,4:].mean(axis=1).mean(axis=1))\n",
    "plt.yscale(\"log\")\n",
    "#plt.ylim(1e-3,1)"
   ]
  },
  {
   "cell_type": "code",
   "execution_count": null,
   "id": "32695c82-aee0-4cd5-a226-2c68c100173a",
   "metadata": {},
   "outputs": [],
   "source": [
    "plt.figure(figsize=(15,11))\n",
    "plt.plot(Xstdim[:,4])\n",
    "plt.yscale(\"log\")\n",
    "#plt.ylim(1e-1,4)"
   ]
  },
  {
   "cell_type": "code",
   "execution_count": null,
   "id": "385cec2f-8cc5-4838-856a-22761ea6a0c6",
   "metadata": {},
   "outputs": [],
   "source": [
    "plt.figure(figsize=(15,11))\n",
    "[plt.plot(oF.rolling_average(smoothmono.sum(axis=1)[:,i], 1), label=f\"pixel {i}\") for i in range(1,3)]\n",
    "plt.plot(oF.rolling_average(smoothmono.sum(axis=1)[:,1:3].sum(axis=1), 1), label=f\"pixel sum\")\n",
    "plt.legend()\n",
    "#plt.ylim(-4,4)\n",
    "plt.axhline(0,0,1500, color=\"orange\")"
   ]
  },
  {
   "cell_type": "code",
   "execution_count": null,
   "id": "09818b66-7cb1-4a1f-b8b5-bb508db1b0da",
   "metadata": {},
   "outputs": [],
   "source": [
    "plt.figure(figsize=(15,11))\n",
    "plt.plot(oF.rolling_average(smoothmono.sum(axis=1)[:,1:3].sum(axis=1), 1), 'g', label=f\"pixel sum\")\n",
    "#plt.plot(oF.rolling_average(smoothmono.sum(axis=1)[:,1:4].sum(axis=1), 1), 'b', label=f\"pixel sum\")\n",
    "plt.legend()\n",
    "plt.ylim(70,112)\n",
    "plt.axhline(0,0,1500, color=\"orange\")"
   ]
  },
  {
   "cell_type": "code",
   "execution_count": null,
   "id": "844007bf-c9a5-48cd-9840-536a706b57a7",
   "metadata": {},
   "outputs": [],
   "source": [
    "plt.figure(figsize=(15,11))\n",
    "[plt.plot(oF.rolling_average(smoothmono.sum(axis=1)[:,i], 100), label=f\"pixel {i}\") for i in [0,3,4,5,6,7,8,9,10,11,12,13,14,15]]\n",
    "plt.legend()\n",
    "plt.ylim(-2.1,4.25)\n",
    "plt.axhline(0,0,1500, color=\"k\")\n"
   ]
  },
  {
   "cell_type": "code",
   "execution_count": null,
   "id": "e6c21e77-871a-4fe7-a8b9-65e2f694e625",
   "metadata": {},
   "outputs": [],
   "source": [
    "np.sum(smoothmono.shape[1:])"
   ]
  },
  {
   "cell_type": "code",
   "execution_count": null,
   "id": "42bd6786-3345-4bdb-8132-27714ecd8007",
   "metadata": {},
   "outputs": [],
   "source": [
    "#np.savetxt(\"lightcurvewithbadbaseline.csv\", crudephotometry, delimiter=',')"
   ]
  }
 ],
 "metadata": {
  "kernelspec": {
   "display_name": "Python 3 (ipykernel)",
   "language": "python",
   "name": "python3"
  },
  "language_info": {
   "codemirror_mode": {
    "name": "ipython",
    "version": 3
   },
   "file_extension": ".py",
   "mimetype": "text/x-python",
   "name": "python",
   "nbconvert_exporter": "python",
   "pygments_lexer": "ipython3",
   "version": "3.11.3"
  }
 },
 "nbformat": 4,
 "nbformat_minor": 5
}
